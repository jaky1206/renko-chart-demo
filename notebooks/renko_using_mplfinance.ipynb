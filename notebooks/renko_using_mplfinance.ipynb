{
  "cells": [
    {
      "cell_type": "code",
      "execution_count": 2,
      "metadata": {
        "colab": {
          "base_uri": "https://localhost:8080/"
        },
        "id": "yo-uPYJImFHQ",
        "outputId": "4e772661-a618-4928-eb96-5ab05a08e406"
      },
      "outputs": [],
      "source": [
        "#!pip install mplfinance # for plotting renko charts"
      ]
    },
    {
      "cell_type": "code",
      "execution_count": 2,
      "metadata": {
        "id": "rgL70pT0mIh8"
      },
      "outputs": [],
      "source": [
        "import pandas as pd\n",
        "import mplfinance as fplt\n",
        "import datetime as dt"
      ]
    },
    {
      "cell_type": "code",
      "execution_count": 4,
      "metadata": {
        "id": "oKmJIDsirb5j"
      },
      "outputs": [],
      "source": [
        "df = pd.read_csv(r'..\\data\\nq-aug-1-to-aug-15-2024-for-renko-ipynb-b.txt')"
      ]
    },
    {
      "cell_type": "code",
      "execution_count": 3,
      "metadata": {
        "id": "i-MbWgW_7y9k"
      },
      "outputs": [],
      "source": [
        "# graph_heading is the file name\n",
        "graph_heading = 'NQ Aug-1ToAug-15'"
      ]
    },
    {
      "cell_type": "code",
      "execution_count": 4,
      "metadata": {
        "id": "NqLNU1CgzQ8_"
      },
      "outputs": [],
      "source": [
        "# Drop Nonetype\n",
        "df = df.dropna()"
      ]
    },
    {
      "cell_type": "code",
      "execution_count": 5,
      "metadata": {
        "id": "WCu86jjQw6nd"
      },
      "outputs": [],
      "source": [
        "# Add Date and Time to a new column called DateTime\n",
        "df['DateTime'] = df['Date'] + ' ' + df['Time']"
      ]
    },
    {
      "cell_type": "code",
      "execution_count": 6,
      "metadata": {
        "id": "AbAIHdIgykKj"
      },
      "outputs": [],
      "source": [
        "# Convert df['Date'] to Datetime\n",
        "df['DateTime'] = pd.to_datetime(df['Date'])"
      ]
    },
    {
      "cell_type": "code",
      "execution_count": 7,
      "metadata": {
        "colab": {
          "base_uri": "https://localhost:8080/",
          "height": 226
        },
        "id": "6Jcew-ea7OiX",
        "outputId": "051130bc-cb2b-4baa-acef-aecedf3c3708"
      },
      "outputs": [
        {
          "data": {
            "text/html": [
              "<div>\n",
              "<style scoped>\n",
              "    .dataframe tbody tr th:only-of-type {\n",
              "        vertical-align: middle;\n",
              "    }\n",
              "\n",
              "    .dataframe tbody tr th {\n",
              "        vertical-align: top;\n",
              "    }\n",
              "\n",
              "    .dataframe thead th {\n",
              "        text-align: right;\n",
              "    }\n",
              "</style>\n",
              "<table border=\"1\" class=\"dataframe\">\n",
              "  <thead>\n",
              "    <tr style=\"text-align: right;\">\n",
              "      <th></th>\n",
              "      <th>Date</th>\n",
              "      <th>Time</th>\n",
              "      <th>Open</th>\n",
              "      <th>High</th>\n",
              "      <th>Low</th>\n",
              "      <th>Close</th>\n",
              "      <th>Up</th>\n",
              "      <th>Down</th>\n",
              "      <th>Volume</th>\n",
              "      <th>DateTime</th>\n",
              "    </tr>\n",
              "  </thead>\n",
              "  <tbody>\n",
              "    <tr>\n",
              "      <th>0</th>\n",
              "      <td>07/31/2024</td>\n",
              "      <td>18:00:05</td>\n",
              "      <td>19593.25</td>\n",
              "      <td>19596.25</td>\n",
              "      <td>19590.75</td>\n",
              "      <td>19593.25</td>\n",
              "      <td>66</td>\n",
              "      <td>58</td>\n",
              "      <td>0.0</td>\n",
              "      <td>2024-07-31</td>\n",
              "    </tr>\n",
              "    <tr>\n",
              "      <th>1</th>\n",
              "      <td>07/31/2024</td>\n",
              "      <td>18:00:10</td>\n",
              "      <td>19593.00</td>\n",
              "      <td>19594.75</td>\n",
              "      <td>19592.25</td>\n",
              "      <td>19592.25</td>\n",
              "      <td>20</td>\n",
              "      <td>19</td>\n",
              "      <td>39.0</td>\n",
              "      <td>2024-07-31</td>\n",
              "    </tr>\n",
              "    <tr>\n",
              "      <th>2</th>\n",
              "      <td>07/31/2024</td>\n",
              "      <td>18:00:15</td>\n",
              "      <td>19593.25</td>\n",
              "      <td>19594.25</td>\n",
              "      <td>19587.50</td>\n",
              "      <td>19587.50</td>\n",
              "      <td>13</td>\n",
              "      <td>35</td>\n",
              "      <td>48.0</td>\n",
              "      <td>2024-07-31</td>\n",
              "    </tr>\n",
              "    <tr>\n",
              "      <th>3</th>\n",
              "      <td>07/31/2024</td>\n",
              "      <td>18:00:20</td>\n",
              "      <td>19587.50</td>\n",
              "      <td>19589.50</td>\n",
              "      <td>19582.25</td>\n",
              "      <td>19582.25</td>\n",
              "      <td>28</td>\n",
              "      <td>37</td>\n",
              "      <td>65.0</td>\n",
              "      <td>2024-07-31</td>\n",
              "    </tr>\n",
              "    <tr>\n",
              "      <th>4</th>\n",
              "      <td>07/31/2024</td>\n",
              "      <td>18:00:25</td>\n",
              "      <td>19584.00</td>\n",
              "      <td>19587.00</td>\n",
              "      <td>19583.50</td>\n",
              "      <td>19585.75</td>\n",
              "      <td>15</td>\n",
              "      <td>11</td>\n",
              "      <td>26.0</td>\n",
              "      <td>2024-07-31</td>\n",
              "    </tr>\n",
              "  </tbody>\n",
              "</table>\n",
              "</div>"
            ],
            "text/plain": [
              "         Date      Time      Open      High       Low     Close  Up  Down  \\\n",
              "0  07/31/2024  18:00:05  19593.25  19596.25  19590.75  19593.25  66    58   \n",
              "1  07/31/2024  18:00:10  19593.00  19594.75  19592.25  19592.25  20    19   \n",
              "2  07/31/2024  18:00:15  19593.25  19594.25  19587.50  19587.50  13    35   \n",
              "3  07/31/2024  18:00:20  19587.50  19589.50  19582.25  19582.25  28    37   \n",
              "4  07/31/2024  18:00:25  19584.00  19587.00  19583.50  19585.75  15    11   \n",
              "\n",
              "   Volume   DateTime  \n",
              "0     0.0 2024-07-31  \n",
              "1    39.0 2024-07-31  \n",
              "2    48.0 2024-07-31  \n",
              "3    65.0 2024-07-31  \n",
              "4    26.0 2024-07-31  "
            ]
          },
          "execution_count": 7,
          "metadata": {},
          "output_type": "execute_result"
        }
      ],
      "source": [
        "df.head()"
      ]
    },
    {
      "cell_type": "code",
      "execution_count": 8,
      "metadata": {
        "id": "ilvQcKWbl5R-"
      },
      "outputs": [],
      "source": [
        "# get ohlc from df\n",
        "ohlcv = df[['DateTime','Open','High','Low','Close', 'Volume']]\n"
      ]
    },
    {
      "cell_type": "code",
      "execution_count": 9,
      "metadata": {
        "id": "ahIEeCXe8G8d"
      },
      "outputs": [],
      "source": [
        "# make Datetime index\n",
        "ohlcv = ohlcv.set_index('DateTime')"
      ]
    },
    {
      "cell_type": "code",
      "execution_count": 10,
      "metadata": {
        "colab": {
          "base_uri": "https://localhost:8080/"
        },
        "id": "QjH0HB6G7qnB",
        "outputId": "d917b252-03de-4d72-dddd-bf62db93a07d"
      },
      "outputs": [
        {
          "name": "stdout",
          "output_type": "stream",
          "text": [
            "<class 'pandas.core.frame.DataFrame'>\n",
            "DatetimeIndex: 156871 entries, 2024-07-31 to 2024-08-15\n",
            "Data columns (total 5 columns):\n",
            " #   Column  Non-Null Count   Dtype  \n",
            "---  ------  --------------   -----  \n",
            " 0   Open    156871 non-null  float64\n",
            " 1   High    156871 non-null  float64\n",
            " 2   Low     156871 non-null  float64\n",
            " 3   Close   156871 non-null  float64\n",
            " 4   Volume  156871 non-null  float64\n",
            "dtypes: float64(5)\n",
            "memory usage: 7.2 MB\n"
          ]
        }
      ],
      "source": [
        "ohlcv.info()"
      ]
    },
    {
      "cell_type": "code",
      "execution_count": 11,
      "metadata": {
        "colab": {
          "base_uri": "https://localhost:8080/",
          "height": 257
        },
        "id": "ND9_8ibS70X8",
        "outputId": "b7211543-6cbe-4193-8cad-a58eaec7abd9"
      },
      "outputs": [
        {
          "data": {
            "text/html": [
              "<div>\n",
              "<style scoped>\n",
              "    .dataframe tbody tr th:only-of-type {\n",
              "        vertical-align: middle;\n",
              "    }\n",
              "\n",
              "    .dataframe tbody tr th {\n",
              "        vertical-align: top;\n",
              "    }\n",
              "\n",
              "    .dataframe thead th {\n",
              "        text-align: right;\n",
              "    }\n",
              "</style>\n",
              "<table border=\"1\" class=\"dataframe\">\n",
              "  <thead>\n",
              "    <tr style=\"text-align: right;\">\n",
              "      <th></th>\n",
              "      <th>Open</th>\n",
              "      <th>High</th>\n",
              "      <th>Low</th>\n",
              "      <th>Close</th>\n",
              "      <th>Volume</th>\n",
              "    </tr>\n",
              "    <tr>\n",
              "      <th>DateTime</th>\n",
              "      <th></th>\n",
              "      <th></th>\n",
              "      <th></th>\n",
              "      <th></th>\n",
              "      <th></th>\n",
              "    </tr>\n",
              "  </thead>\n",
              "  <tbody>\n",
              "    <tr>\n",
              "      <th>2024-07-31</th>\n",
              "      <td>19593.25</td>\n",
              "      <td>19596.25</td>\n",
              "      <td>19590.75</td>\n",
              "      <td>19593.25</td>\n",
              "      <td>0.0</td>\n",
              "    </tr>\n",
              "    <tr>\n",
              "      <th>2024-07-31</th>\n",
              "      <td>19593.00</td>\n",
              "      <td>19594.75</td>\n",
              "      <td>19592.25</td>\n",
              "      <td>19592.25</td>\n",
              "      <td>39.0</td>\n",
              "    </tr>\n",
              "    <tr>\n",
              "      <th>2024-07-31</th>\n",
              "      <td>19593.25</td>\n",
              "      <td>19594.25</td>\n",
              "      <td>19587.50</td>\n",
              "      <td>19587.50</td>\n",
              "      <td>48.0</td>\n",
              "    </tr>\n",
              "    <tr>\n",
              "      <th>2024-07-31</th>\n",
              "      <td>19587.50</td>\n",
              "      <td>19589.50</td>\n",
              "      <td>19582.25</td>\n",
              "      <td>19582.25</td>\n",
              "      <td>65.0</td>\n",
              "    </tr>\n",
              "    <tr>\n",
              "      <th>2024-07-31</th>\n",
              "      <td>19584.00</td>\n",
              "      <td>19587.00</td>\n",
              "      <td>19583.50</td>\n",
              "      <td>19585.75</td>\n",
              "      <td>26.0</td>\n",
              "    </tr>\n",
              "  </tbody>\n",
              "</table>\n",
              "</div>"
            ],
            "text/plain": [
              "                Open      High       Low     Close  Volume\n",
              "DateTime                                                  \n",
              "2024-07-31  19593.25  19596.25  19590.75  19593.25     0.0\n",
              "2024-07-31  19593.00  19594.75  19592.25  19592.25    39.0\n",
              "2024-07-31  19593.25  19594.25  19587.50  19587.50    48.0\n",
              "2024-07-31  19587.50  19589.50  19582.25  19582.25    65.0\n",
              "2024-07-31  19584.00  19587.00  19583.50  19585.75    26.0"
            ]
          },
          "execution_count": 11,
          "metadata": {},
          "output_type": "execute_result"
        }
      ],
      "source": [
        "ohlcv.head()"
      ]
    },
    {
      "cell_type": "code",
      "execution_count": 12,
      "metadata": {
        "colab": {
          "base_uri": "https://localhost:8080/",
          "height": 586
        },
        "id": "n6HkqL8Ok9y7",
        "outputId": "2499c9b6-9e3c-4b6e-f863-2550cfd0bd7e"
      },
      "outputs": [
        {
          "data": {
            "image/png": "[encoded data removed]",
            "text/plain": [
              "<Figure size 1800x700 with 2 Axes>"
            ]
          },
          "metadata": {},
          "output_type": "display_data"
        }
      ],
      "source": [
        "fplt.plot(ohlcv,type='renko',renko_params=dict(brick_size='atr', atr_length=14),\n",
        "          style='yahoo',figsize =(18,7),\n",
        "          title = \"RENKO CHART WITH ATR for {0}\".format(graph_heading))"
      ]
    }
  ],
  "metadata": {
    "colab": {
      "provenance": []
    },
    "kernelspec": {
      "display_name": "Python 3",
      "name": "python3"
    },
    "language_info": {
      "codemirror_mode": {
        "name": "ipython",
        "version": 3
      },
      "file_extension": ".py",
      "mimetype": "text/x-python",
      "name": "python",
      "nbconvert_exporter": "python",
      "pygments_lexer": "ipython3",
      "version": "3.12.4"
    }
  },
  "nbformat": 4,
  "nbformat_minor": 0
}
