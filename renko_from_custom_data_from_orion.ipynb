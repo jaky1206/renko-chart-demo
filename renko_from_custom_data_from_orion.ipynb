{
  "cells": [
    {
      "cell_type": "code",
      "execution_count": 1,
      "metadata": {},
      "outputs": [],
      "source": [
        "import pandas as pd\n",
        "import matplotlib.pyplot as plt\n",
        "import matplotlib.patches as patches\n",
        "import numpy as np\n",
        "from matplotlib.widgets import Slider\n",
        "from matplotlib.dates import date2num"
      ]
    },
    {
      "cell_type": "code",
      "execution_count": 3,
      "metadata": {},
      "outputs": [],
      "source": [
        "# Load data from the file\n",
        "df = pd.read_csv('renko_series.txt')"
      ]
    },
    {
      "cell_type": "code",
      "execution_count": 6,
      "metadata": {},
      "outputs": [
        {
          "data": {
            "text/plain": [
              "Index(['StartDateTime', 'EndDateTime', 'StartPrice', 'EndPrice',\n",
              "       'TotalUpVolume', 'TotalDownVolume', 'TotalVolume', 'Color'],\n",
              "      dtype='object')"
            ]
          },
          "execution_count": 6,
          "metadata": {},
          "output_type": "execute_result"
        }
      ],
      "source": [
        "# Strip any leading or trailing whitespace from the column names\n",
        "df.columns = df.columns.str.strip()\n",
        "df.columns"
      ]
    },
    {
      "cell_type": "code",
      "execution_count": 4,
      "metadata": {},
      "outputs": [],
      "source": [
        "# Ensure that the necessary columns exist\n",
        "required_columns = ['StartDateTime', 'EndDateTime', 'StartPrice', 'EndPrice', 'Color']\n",
        "missing_columns = [col for col in required_columns if col not in df.columns]"
      ]
    },
    {
      "cell_type": "code",
      "execution_count": 5,
      "metadata": {},
      "outputs": [],
      "source": [
        "if missing_columns:\n",
        "    print(f\"Error: Missing columns: {missing_columns}\")"
      ]
    },
    {
      "cell_type": "code",
      "execution_count": 6,
      "metadata": {},
      "outputs": [],
      "source": [
        "# Convert the price columns to numeric\n",
        "df['StartPrice'] = pd.to_numeric(df['StartPrice'], errors='coerce')\n",
        "df['EndPrice'] = pd.to_numeric(df['EndPrice'], errors='coerce')"
      ]
    },
    {
      "cell_type": "code",
      "execution_count": 7,
      "metadata": {},
      "outputs": [],
      "source": [
        "# Increase the window size for moving average and median\n",
        "window_size = 10  # Reduced window size for better continuity\n",
        "df['MA'] = df['EndPrice'].rolling(window=window_size).mean().ffill().bfill()\n",
        "df['Median'] = df['EndPrice'].rolling(window=window_size).median().ffill().bfill()"
      ]
    },
    {
      "cell_type": "code",
      "execution_count": 8,
      "metadata": {},
      "outputs": [],
      "source": [
        "# Calculate the linear regression line for the EndPrice\n",
        "x = np.arange(len(df))\n",
        "y = df['EndPrice'].values\n",
        "slope, intercept = np.polyfit(x, y, 1)\n",
        "df['LinearRegression'] = slope * x + intercept"
      ]
    },
    {
      "cell_type": "code",
      "execution_count": 19,
      "metadata": {},
      "outputs": [
        {
          "data": {
            "text/plain": [
              "0"
            ]
          },
          "execution_count": 19,
          "metadata": {},
          "output_type": "execute_result"
        },
        {
          "data": {
            "image/png": "[encoded data removed]",
            "text/plain": [
              "<Figure size 1000x800 with 3 Axes>"
            ]
          },
          "metadata": {},
          "output_type": "display_data"
        }
      ],
      "source": [
        "# Create the figure and axis\n",
        "fig, axes = plt.subplots()\n",
        "\n",
        "# Plot the Renko bars with correct sequencing\n",
        "index = 0\n",
        "for _, row in df.iterrows():\n",
        "    if row['Color'] == 'G':  # Green for upward trend\n",
        "        if row['EndPrice'] - row['StartPrice'] <= 5:\n",
        "            renko = patches.Rectangle((index, row['StartPrice']), 1, row['EndPrice'] - row['StartPrice'], edgecolor='green', facecolor='green', alpha=0.7)\n",
        "            index += 1  # Increment index after placing the Renko bar\n",
        "        elif row['EndPrice'] - row['StartPrice'] > 5:\n",
        "            renko = patches.Rectangle((index, row['StartPrice']+ 5), 1, 5, edgecolor='green', facecolor='green', alpha=0.7)\n",
        "            index += 1  # Increment index after placing the Renko bar\n",
        "    elif row['Color'] == 'R':  # Red for downward trend\n",
        "        if row['StartPrice'] - row['EndPrice'] <= 5:\n",
        "            renko = patches.Rectangle((index, row['StartPrice']), 1, row['EndPrice'] - row['StartPrice'], edgecolor='red', facecolor='red', alpha=0.7)\n",
        "            index += 1  # Increment index after placing the Renko bar\n",
        "        elif row['StartPrice'] - row['EndPrice'] > 5:\n",
        "            renko = patches.Rectangle((index, row['EndPrice']), 1, 5, edgecolor='red', facecolor='red', alpha=0.7)\n",
        "            index += 1  # Increment index after placing the Renko bar\n",
        "    axes.add_patch(renko)\n",
        "\n",
        "# Plot the moving average, median, and linear regression lines\n",
        "axes.plot(df.index, df['MA'], color='blue', label=f'{window_size}-period MA')\n",
        "axes.plot(df.index, df['Median'], color='orange', label=f'{window_size}-period Median')\n",
        "axes.plot(df.index, df['LinearRegression'], color='purple', label='Linear Regression')\n",
        "\n",
        "# Adjust the axes limits based on the data\n",
        "axes.set_xlim([0, len(df) + 5])\n",
        "axes.set_ylim([df['StartPrice'].min(), df['EndPrice'].max()])\n",
        "\n",
        "# Add grid, legend, and show the plot\n",
        "axes.grid(True)\n",
        "axes.legend()\n",
        "\n",
        "# Slider functionality\n",
        "axcolor = 'lightgoldenrodyellow'\n",
        "axpos = plt.axes([0.2, 0.01, 0.65, 0.03], facecolor=axcolor)\n",
        "\n",
        "spos = Slider(axpos, 'Pos', 0, len(df) - 10, valinit=0, valstep=1)\n",
        "\n",
        "def update(val):\n",
        "    pos = spos.val\n",
        "    axes.set_xlim([pos, pos + 10])\n",
        "    fig.canvas.draw_idle()\n",
        "\n",
        "spos.on_changed(update)\n"
      ]
    }
  ],
  "metadata": {
    "colab": {
      "provenance": []
    },
    "kernelspec": {
      "display_name": "Python 3",
      "name": "python3"
    },
    "language_info": {
      "codemirror_mode": {
        "name": "ipython",
        "version": 3
      },
      "file_extension": ".py",
      "mimetype": "text/x-python",
      "name": "python",
      "nbconvert_exporter": "python",
      "pygments_lexer": "ipython3",
      "version": "3.12.4"
    }
  },
  "nbformat": 4,
  "nbformat_minor": 0
}
